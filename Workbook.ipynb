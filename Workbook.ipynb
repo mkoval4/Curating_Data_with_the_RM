{
 "cells": [
  {
   "cell_type": "markdown",
   "metadata": {},
   "source": [
    "## Data Curation Using the Relational Model"
   ]
  },
  {
   "cell_type": "markdown",
   "metadata": {},
   "source": [
    "---\n",
    "**Important**\n",
    "\n",
    "* The ```#grade``` tag in notebook cells is required for grading purposes. Do not remove.*\n",
    "* Remember to save your notebook before submitting.\n",
    "---"
   ]
  },
  {
   "cell_type": "markdown",
   "metadata": {},
   "source": [
    "Data curation is concerned with all aspects of data management required to efficiently and reliably support analysis and reuse. This includes everything from initial data acquisition to organization, integration, access, and preservation. Data typically originate from a variety of sources, in a variety of formats, and may need transformation. Curation often involves the selection of a basic model for storage and organization that requires an understanding of the data as well as any objectives for its use.\n",
    "\n",
    "In this exercise, we explore the application of the widely-used relational model to support analysis as well as how it relates to Wickham's concept of <i>tidy data</i>. It is assumed that you have a basic understanding of relational databases from a prior database systems course including schema design, constraints, and queries."
   ]
  },
  {
   "cell_type": "markdown",
   "metadata": {},
   "source": [
    "### Learning Objectives\n",
    "\n",
    "* Apply strategies for data curation using the relational model including implementing a relational schema, integrity constraints, and queries.\n",
    "* Gain experience analyzing characteristics of a dataset.\n",
    "* Gain experience with principles of tidy data."
   ]
  },
  {
   "cell_type": "markdown",
   "metadata": {},
   "source": [
    "### Deliverables:\n",
    "* `schema.sql`: File defining database schema.\n",
    "* `Workbook.ipynb`: This notebook with graded functions implemented."
   ]
  },
  {
   "cell_type": "markdown",
   "metadata": {},
   "source": [
    "### Scenario\n",
    "\n",
    "You are part of a team tasked with exploring factors involved in food safety violations. As a starting point, the team has decided to work with the publicly-available [Food Inspections](https://data.cityofchicago.org/Health-Human-Services/Food-Inspections/4ijn-s7e5) data from the City of Chicago. \n",
    "\n",
    "When curating an existing dataset, we have the option to leave it as-is or to transform it into another model to facilitate use. In this exercise, you will create a simple relational database that can be used for subsequent analysis. \n",
    "\n",
    "Using a subset of the source data provided in `data/restaurants-subset.csv` you will:\n",
    "* Implement a relational database schema that can be used to address pre-defined questions.\n",
    "* Implement queries to return specific values.\n",
    "* Implement queries to return analysis-ready data in tidy format.\n",
    "\n",
    "**You are restricted to using the [DuckDB Python API](https://duckdb.org/docs/api/python/overview).** While there are many ways to answer these question using the data, the purpose of this assignment is to use the relational model.\n",
    "\n",
    "At the end of the assignment, your schema and queries, implemented as Python functions in this notebook, will be used to answer the following questions:\n",
    "* What is the total number of inspections?\n",
    "* What is the total number of violations?\n",
    "* What are the *n* most common violations?\n",
    "* What are the *n* restaurants with the most violations?"
   ]
  },
  {
   "cell_type": "code",
   "execution_count": 1,
   "metadata": {},
   "outputs": [],
   "source": [
    "import duckdb"
   ]
  },
  {
   "cell_type": "markdown",
   "metadata": {},
   "source": [
    "### 1. Inspect the Data\n",
    "\n",
    "Read the [About](https://data.cityofchicago.org/Health-Human-Services/Food-Inspections/4ijn-s7e5/about_data) page on the City of Chicago Data Portal. Use the Data Portal, this workspace environment, and/or `duckdb` API to inspect the dataset focusing on structure and attributes.\n",
    "\n",
    "For example, you can use DuckDB's built-in ability to query the CSV data directly and return a dataframe:"
   ]
  },
  {
   "cell_type": "code",
   "execution_count": 2,
   "metadata": {},
   "outputs": [
    {
     "data": {
      "text/html": [
       "<div>\n",
       "<style scoped>\n",
       "    .dataframe tbody tr th:only-of-type {\n",
       "        vertical-align: middle;\n",
       "    }\n",
       "\n",
       "    .dataframe tbody tr th {\n",
       "        vertical-align: top;\n",
       "    }\n",
       "\n",
       "    .dataframe thead th {\n",
       "        text-align: right;\n",
       "    }\n",
       "</style>\n",
       "<table border=\"1\" class=\"dataframe\">\n",
       "  <thead>\n",
       "    <tr style=\"text-align: right;\">\n",
       "      <th></th>\n",
       "      <th>Inspection ID</th>\n",
       "      <th>DBA Name</th>\n",
       "      <th>AKA Name</th>\n",
       "      <th>License #</th>\n",
       "      <th>Facility Type</th>\n",
       "      <th>Risk</th>\n",
       "      <th>Address</th>\n",
       "      <th>City</th>\n",
       "      <th>State</th>\n",
       "      <th>Zip</th>\n",
       "      <th>Inspection Date</th>\n",
       "      <th>Inspection Type</th>\n",
       "      <th>Results</th>\n",
       "      <th>Violations</th>\n",
       "      <th>Latitude</th>\n",
       "      <th>Longitude</th>\n",
       "      <th>Location</th>\n",
       "    </tr>\n",
       "  </thead>\n",
       "  <tbody>\n",
       "    <tr>\n",
       "      <th>0</th>\n",
       "      <td>2222594</td>\n",
       "      <td>LA ESPERANZA</td>\n",
       "      <td>LA ESPERANZA</td>\n",
       "      <td>2180050.0</td>\n",
       "      <td>Grocery Store</td>\n",
       "      <td>Risk 1 (High)</td>\n",
       "      <td>3000 S DRAKE AVE</td>\n",
       "      <td>CHICAGO</td>\n",
       "      <td>IL</td>\n",
       "      <td>60623.0</td>\n",
       "      <td>2018-09-19</td>\n",
       "      <td>Canvass</td>\n",
       "      <td>Fail</td>\n",
       "      <td>1. PERSON IN CHARGE PRESENT, DEMONSTRATES KNOW...</td>\n",
       "      <td>41.838816</td>\n",
       "      <td>-87.713565</td>\n",
       "      <td>(41.83881606238869, -87.71356485651883)</td>\n",
       "    </tr>\n",
       "    <tr>\n",
       "      <th>1</th>\n",
       "      <td>2553999</td>\n",
       "      <td>BIRRIERIA JALISCO</td>\n",
       "      <td>BIRRIERIA JALISCO</td>\n",
       "      <td>1772607.0</td>\n",
       "      <td>Restaurant</td>\n",
       "      <td>Risk 1 (High)</td>\n",
       "      <td>2462 W 47TH ST</td>\n",
       "      <td>CHICAGO</td>\n",
       "      <td>IL</td>\n",
       "      <td>60632.0</td>\n",
       "      <td>2022-04-07</td>\n",
       "      <td>Canvass Re-Inspection</td>\n",
       "      <td>Pass</td>\n",
       "      <td>37. FOOD PROPERLY LABELED; ORIGINAL CONTAINER ...</td>\n",
       "      <td>41.808511</td>\n",
       "      <td>-87.686695</td>\n",
       "      <td>(41.808511205858146, -87.68669535004372)</td>\n",
       "    </tr>\n",
       "    <tr>\n",
       "      <th>2</th>\n",
       "      <td>2232545</td>\n",
       "      <td>LITTLE KIDS VILLAGE LEARNING</td>\n",
       "      <td>LITTLE KIDS VILLAGE LEARNING</td>\n",
       "      <td>2215838.0</td>\n",
       "      <td>Daycare (2 - 6 Years)</td>\n",
       "      <td>Risk 1 (High)</td>\n",
       "      <td>2656 W 71ST ST</td>\n",
       "      <td>CHICAGO</td>\n",
       "      <td>IL</td>\n",
       "      <td>60629.0</td>\n",
       "      <td>2018-10-30</td>\n",
       "      <td>Canvass</td>\n",
       "      <td>Pass</td>\n",
       "      <td>47. FOOD &amp; NON-FOOD CONTACT SURFACES CLEANABLE...</td>\n",
       "      <td>41.764689</td>\n",
       "      <td>-87.690441</td>\n",
       "      <td>(41.764689317705226, -87.6904408401805)</td>\n",
       "    </tr>\n",
       "    <tr>\n",
       "      <th>3</th>\n",
       "      <td>2594512</td>\n",
       "      <td>HEARTY CAFE PANCAKE HOUSE</td>\n",
       "      <td>HEARTY CAFE PANCAKE HOUSE</td>\n",
       "      <td>2817504.0</td>\n",
       "      <td>Restaurant</td>\n",
       "      <td>Risk 1 (High)</td>\n",
       "      <td>9623 S WESTERN AVE</td>\n",
       "      <td>CHICAGO</td>\n",
       "      <td>IL</td>\n",
       "      <td>60643.0</td>\n",
       "      <td>2024-05-14</td>\n",
       "      <td>Canvass Re-Inspection</td>\n",
       "      <td>Pass</td>\n",
       "      <td>41. WIPING CLOTHS: PROPERLY USED &amp; STORED - Co...</td>\n",
       "      <td>41.718398</td>\n",
       "      <td>-87.681838</td>\n",
       "      <td>(41.71839819308241, -87.68183836584416)</td>\n",
       "    </tr>\n",
       "    <tr>\n",
       "      <th>4</th>\n",
       "      <td>2570937</td>\n",
       "      <td>Burley Elementary</td>\n",
       "      <td>Burley Elementary</td>\n",
       "      <td>22421.0</td>\n",
       "      <td>School</td>\n",
       "      <td>Risk 1 (High)</td>\n",
       "      <td>1630 W Barry (3100N)</td>\n",
       "      <td>CHICAGO</td>\n",
       "      <td>IL</td>\n",
       "      <td>60657.0</td>\n",
       "      <td>2023-02-08</td>\n",
       "      <td>Canvass Re-Inspection</td>\n",
       "      <td>Pass</td>\n",
       "      <td>None</td>\n",
       "      <td>41.937965</td>\n",
       "      <td>-87.669852</td>\n",
       "      <td>(41.93796493348329, -87.66985204161114)</td>\n",
       "    </tr>\n",
       "  </tbody>\n",
       "</table>\n",
       "</div>"
      ],
      "text/plain": [
       "   Inspection ID                      DBA Name                      AKA Name  \\\n",
       "0        2222594                  LA ESPERANZA                  LA ESPERANZA   \n",
       "1        2553999             BIRRIERIA JALISCO             BIRRIERIA JALISCO   \n",
       "2        2232545  LITTLE KIDS VILLAGE LEARNING  LITTLE KIDS VILLAGE LEARNING   \n",
       "3        2594512     HEARTY CAFE PANCAKE HOUSE     HEARTY CAFE PANCAKE HOUSE   \n",
       "4        2570937             Burley Elementary             Burley Elementary   \n",
       "\n",
       "   License #          Facility Type           Risk                Address  \\\n",
       "0  2180050.0          Grocery Store  Risk 1 (High)      3000 S DRAKE AVE    \n",
       "1  1772607.0             Restaurant  Risk 1 (High)        2462 W 47TH ST    \n",
       "2  2215838.0  Daycare (2 - 6 Years)  Risk 1 (High)        2656 W 71ST ST    \n",
       "3  2817504.0             Restaurant  Risk 1 (High)    9623 S WESTERN AVE    \n",
       "4    22421.0                 School  Risk 1 (High)  1630 W Barry (3100N)    \n",
       "\n",
       "      City State      Zip Inspection Date        Inspection Type Results  \\\n",
       "0  CHICAGO    IL  60623.0      2018-09-19                Canvass    Fail   \n",
       "1  CHICAGO    IL  60632.0      2022-04-07  Canvass Re-Inspection    Pass   \n",
       "2  CHICAGO    IL  60629.0      2018-10-30                Canvass    Pass   \n",
       "3  CHICAGO    IL  60643.0      2024-05-14  Canvass Re-Inspection    Pass   \n",
       "4  CHICAGO    IL  60657.0      2023-02-08  Canvass Re-Inspection    Pass   \n",
       "\n",
       "                                          Violations   Latitude  Longitude  \\\n",
       "0  1. PERSON IN CHARGE PRESENT, DEMONSTRATES KNOW...  41.838816 -87.713565   \n",
       "1  37. FOOD PROPERLY LABELED; ORIGINAL CONTAINER ...  41.808511 -87.686695   \n",
       "2  47. FOOD & NON-FOOD CONTACT SURFACES CLEANABLE...  41.764689 -87.690441   \n",
       "3  41. WIPING CLOTHS: PROPERLY USED & STORED - Co...  41.718398 -87.681838   \n",
       "4                                               None  41.937965 -87.669852   \n",
       "\n",
       "                                   Location  \n",
       "0   (41.83881606238869, -87.71356485651883)  \n",
       "1  (41.808511205858146, -87.68669535004372)  \n",
       "2   (41.764689317705226, -87.6904408401805)  \n",
       "3   (41.71839819308241, -87.68183836584416)  \n",
       "4   (41.93796493348329, -87.66985204161114)  "
      ]
     },
     "execution_count": 2,
     "metadata": {},
     "output_type": "execute_result"
    }
   ],
   "source": [
    "duckdb.sql(\"SELECT * FROM 'data/restaurants-subset.csv' limit 5\").df()"
   ]
  },
  {
   "cell_type": "markdown",
   "metadata": {},
   "source": [
    "### 2. Create Your Schema\n",
    "* Create a file named `schema.sql` that can be used to create your database. Note that any database files (e.g., `.db`) will be ignored during grading.\n",
    "* Your schema must contain a table named `INSPECTIONS` that stores the inspection data. This table must have a primary key.\n",
    "* During autograding, we will use code similar to the following to create and populate the database."
   ]
  },
  {
   "cell_type": "code",
   "execution_count": 4,
   "metadata": {},
   "outputs": [],
   "source": [
    "with duckdb.connect(\"inspections.db\") as con:\n",
    "    with open(\"schema.sql\", \"r\") as f:\n",
    "        # Create the DB schema\n",
    "        con.sql(f.read())\n",
    "        # Import data\n",
    "        con.sql(\"COPY inspections from 'data/restaurants-subset.csv'\")"
   ]
  },
  {
   "cell_type": "markdown",
   "metadata": {},
   "source": [
    "Implement a function `count_inspections()` that uses `duckdb.sql()` to query the database and return the total number of inspections."
   ]
  },
  {
   "cell_type": "code",
   "execution_count": 5,
   "metadata": {},
   "outputs": [],
   "source": [
    "#grade\n",
    "def count_inspections(con):\n",
    "    result = con.sql(\"SELECT COUNT(*) FROM INSPECTIONS\").fetchone()[0]\n",
    "\n",
    "    return result"
   ]
  },
  {
   "cell_type": "markdown",
   "metadata": {},
   "source": [
    "### 3. Transform the Data\n",
    "\n",
    "As you may have noticed, the `Violations` field contains nested records for each of the violations found during a single inspection. Note that the violations refer to a list of standard [codes and descriptions](https://www.chicago.gov/city/en/depts/cdph/provdrs/food_safety/svcs/understand_healthcoderequirementsforfoodestablishments.html) but also contain information specific to the inspection.\n",
    "\n",
    "Update your `schema.sql` to create additional tables to store the violations data.\n",
    "\n",
    "* `VIOLATIONS`: Table to store unique information about violations. It must have a primary key that serves as a foreign key for the `INSPECTION_VIOLATIONS` table.\n",
    "* `INSPECTION_VIOLATIONS`: Table to store information about violations associated with each inspection. It must have a primary key and foreign keys to `INSPECTIONS` and `VIOLATIONS`.\n",
    "\n",
    "Write a function `parse_violations()` that uses the DuckDB API to parse the `INSPECTIONS.Violations` field and populate the two new tables."
   ]
  },
  {
   "cell_type": "code",
   "execution_count": 12,
   "metadata": {},
   "outputs": [
    {
     "data": {
      "application/vnd.jupyter.widget-view+json": {
       "model_id": "3945ed0973794649ab0c942c2bf2188d",
       "version_major": 2,
       "version_minor": 0
      },
      "text/plain": [
       "FloatProgress(value=0.0, layout=Layout(width='auto'), style=ProgressStyle(bar_color='black'))"
      ]
     },
     "metadata": {},
     "output_type": "display_data"
    },
    {
     "name": "stdout",
     "output_type": "stream",
     "text": [
      "0    1. PERSON IN CHARGE PRESENT, DEMONSTRATES KNOW...\n",
      "1    37. FOOD PROPERLY LABELED; ORIGINAL CONTAINER ...\n",
      "2    47. FOOD & NON-FOOD CONTACT SURFACES CLEANABLE...\n",
      "3    41. WIPING CLOTHS: PROPERLY USED & STORED - Co...\n",
      "4                                                 None\n",
      "Name: Violations, dtype: object\n",
      "1. PERSON IN CHARGE PRESENT, DEMONSTRATES KNOWLEDGE, AND PERFORMS DUTIES - Comments: 2-102.11 PIC DIDN'T DEMONSTRATE KNOWLEDGE OF FOOD OPERATIONS.MUST PROVIDE.(PRIORITY FOUNDATION-NO CITATION ISSUED) | 3. MANAGEMENT, FOOD EMPLOYEE AND CONDITIONAL EMPLOYEE; KNOWLEDGE, RESPONSIBILITIES AND REPORTING - Comments: 2-102.14(N)OBSERVED NO EMPLOYEES HEALTH POLICY PROCEDURE.MUST PROVIDE AND MAINTAIN.(PRIORITY FOUNDATION-NO CITATION ISSUED) | 5. PROCEDURES FOR RESPONDING TO VOMITING AND DIARRHEAL EVENTS - Comments: 2-501.11 OBSERVED NO CLEAN-UP POLICY PROCEDURE FOR VOMITING AND DIARRHEA.MUST PROVIDE AND MAINTAIN.(PRIORITY FOUNDATION- NO CITATION ISSUED) | 23. PROPER DATE MARKING AND DISPOSITION - Comments: 3-501.17 OBSERVED READY TO EAT TCS FOODS HELD FOR MORE THAN 24 HOURS NOT DATE MARKED.MUST PROVIDE AND MAINTAIN.(PRIORITY FOUNDATION-NO CITATION ISSUED) | 33. PROPER COOLING METHODS USED; ADEQUATE EQUIPMENT FOR TEMPERATURE CONTROL - Comments: 4-301.11 OBSERVED IMPROPER TEMPERATURE OF BOTH DELI DISPLAY UNITS AT 52.7F AND 54.9F WITH EXCESSIVE ICE BUILD UP ON COILS ,WITH TCS JUST PREPPED FOODS STORED INSIDE.MUST REPAIR OR REPLACE .A HELD FOR INSPECTION TAG PLACED ON UNIT.ONCE REPAIRED FAX LETTER TO (312)746-4240 WHEN READY.MUST HAVE COLD HOLDING UNIT AT 41.0F OR BELOW.(PRIORITY  7-38-005) | 38. INSECTS, RODENTS, & ANIMALS NOT PRESENT - Comments: 6-501.111 OBSERVED EVIDENCE OF APPX.60 OR MORE RODENT DROPPINGS ON LOWER SHELF OF COUNTER IN PREP AREA,ON FLOOR NEAR COFFEE AREA AND SERVICE COUNTER,REAR STORAGE AREA ALONG WALLS AND TOOL ROOM ALONG WOOD BASES,TOILETROOM IN VANITY.MUST REMOVE DROPPINGS,CLEAN AND SANITIZE AREAS.RECOMMENDED TO HAVE A PEST CONTROL OPERATOR TO SERVICE PREMISES ON OR AFTER 9/19/18.(PRIORITY 7-38-020A) | 41. WIPING CLOTHS: PROPERLY USED & STORED - Comments: 3-304.14 MUST STORE WIPING CLOTHS IN A SANITIZING SOLUTION WHEN NOT IN USE AND NOT ON CUTTING BOARDS. | 47. FOOD & NON-FOOD CONTACT SURFACES CLEANABLE, PROPERLY DESIGNED, CONSTRUCTED & USED - Comments: 4-102.11(A)(2)MUST ELIMINATE GROCERY BAGS USED FOR FOOD STORAGE AND PROVIDE FOOD GRADE BAGS. | 47. FOOD & NON-FOOD CONTACT SURFACES CLEANABLE, PROPERLY DESIGNED, CONSTRUCTED & USED - Comments: 4-101.11 MUST REPAIR CRACKED GLASS ON DELI DISPLAY DOOR. | 51. PLUMBING INSTALLED; PROPER BACKFLOW DEVICES - Comments: 5-205.15(A) MUST REPAIR OR REPLACE LEAKY PIPE AND FAUCET AT 3- COMPARTMENT SINK. | 55. PHYSICAL FACILITIES INSTALLED, MAINTAINED & CLEAN - Comments: 6-201.13 MUST REPAIR OR REPLACE DAMAGED AND MISSING FLOOR TILES AND CONCRETE FLOOR IN PREP AREAS,STAINED CEILING TILES IN TOILETROOM. | 56. ADEQUATE VENTILATION & LIGHTING; DESIGNATED AREAS USED - Comments: 6-303.11 MUST REPLACE BURNOUT LIGHT AT HOOD OF COOKING EQUIPMENT. | 57. ALL FOOD EMPLOYEES HAVE FOOD HANDLER TRAINING - Comments: PA 100-0367 IDPH FOOD HANDLERS REQUIREMENTS ARE NOT MET FOR EMPLOYEES.MUST ENROLL AND MAINTAIN.\n",
      "37. FOOD PROPERLY LABELED; ORIGINAL CONTAINER - Comments: Inspector Comments: OBSERVED BULK ITMES SUCH AS SUGAR NOT LABELED IN FRONT AND DRY STORAGE AREA ( SUGAR, SEASONING). INSTRUCTED MANAGER TO LABEL ALL BULK STORAGE ITEMS. | 38. INSECTS, RODENTS, & ANIMALS NOT PRESENT - Comments: Violation Codes: 6-202.15 Inspector Comments: OBSERVED AN APPX. '1/2-3/4' GAP ALONG BOTTOM RIGHT CORNER OF FRONT DOOR. MUST MAKE DOOR TIGHT FITTING. | 47. FOOD & NON-FOOD CONTACT SURFACES CLEANABLE, PROPERLY DESIGNED, CONSTRUCTED & USED - Comments: Violation Codes: 4-501.12 Inspector Comments: OBSERVED CUTTING BOARDS WITH SCRATCHES AND DENTS IN FRONT PREP AREA. INSTRUCTED MANAGER TO RESURFACE OR REPLACE CUTTING BOARDS. | 47. FOOD & NON-FOOD CONTACT SURFACES CLEANABLE, PROPERLY DESIGNED, CONSTRUCTED & USED - Comments: Violation Codes: 4-501.11 Inspector Comments: OBSERVED RUSTED STEAM TABLE IN FRONT PREP AREA. INSTRUCTED MANAGER TO REPLACE TABLE WITH A CORROSION RESISTANT NON ABSORBENT MATERIAL. OBSERVED CARDBOARD BEING UTILIZED AS SHELVING. INSTRUCTED MANAGER TO REMOVE CARDBOARD AND REPLACE WITH ADEQUATE SHELVING. | 49. NON-FOOD/FOOD CONTACT SURFACES CLEAN - Comments: Violation Codes: 4-602.13 Inspector Comments: OBSERVED MOP SINK WITH HEAVY DEBRIS BUILD UP. INSTRUCTED MANAGER TO DETAIL CLEAN. | 53. TOILET FACILITIES: PROPERLY CONSTRUCTED, SUPPLIED, & CLEANED - Comments: Violation Codes: 5-501.17 Inspector Comments: OBSERVED NO RECEPTACLE IN UNISEX TOILET ROOM. INSTRUCTED MANAGER TO PROVIDE COVERED RECEPTACLE. | 55. PHYSICAL FACILITIES INSTALLED, MAINTAINED & CLEAN - Comments: Violation Codes: 6-201.13 Inspector Comments: MUST REPAIR OR REPLACE DAMAGED/MISSING AND BROKEN FLOOR TILES & WALL BASES,GAPS IN BETWEEN FLOOR AND WALL BASESTHROUGHOUT PREP AND DISH WASHING AREAS. | 56. ADEQUATE VENTILATION & LIGHTING; DESIGNATED AREAS USED - Comments: Violation Codes: 6-202.11 Inspector Comments: MUST PROVIDE LIGHT SHIELDS IN REAR PREP/DISH WASHING AREA.\n",
      "47. FOOD & NON-FOOD CONTACT SURFACES CLEANABLE, PROPERLY DESIGNED, CONSTRUCTED & USED - Comments: OBSERVED A LEAK AT THE BASE OF THE FAUCET ON THE 3-COMPARTMENT SINK IN THE FOOD PREPARATION AREA. INSTRUCTED TO FIX AND MAINTAIN. | 55. PHYSICAL FACILITIES INSTALLED, MAINTAINED & CLEAN - Comments: OBSERVED THE FLOORS IN THE CORNERS IN THE FOOD PREPARATION AND STORAGE CLOSETS WITH DIRT/DEBRIS. INSTRUCTED TO CLEAN AND MAINTAIN FLOORS.  6-501.114 OBSERVED THE STORAGE CLOSETS WITH CLUTTER. INSTRUCTED TO ELIMINATE ALL UNNECESSAY ARTICLES AND ORGANIZE AREAS. MAINTAIN SAME.\n",
      "41. WIPING CLOTHS: PROPERLY USED & STORED - Comments: ALL WIPING CLOTHS WHEN NOT IN USE MUST BE STORED IN A CLEAN SANITIZING SOLUTION INSTRUCTED TO CORRECT AND MAINTAIN | 43. IN-USE UTENSILS: PROPERLY STORED - Comments: OBSERVED A KNIFE BEING STORED BETWEEN THE HANDSINK AND WALL. INSTRUCTED TO REMOVE AND NOT STORE ANY UTENSILS BETWEEN THE WALL AND SINK. \n",
      "None\n",
      "test\n"
     ]
    }
   ],
   "source": [
    "#grade \n",
    "def parse_violations(con):\n",
    "    import pandas as pd\n",
    "    \n",
    "    # Good test candidate:  limit 1 offset 102\n",
    "    df = con.sql(\"SELECT \\\"Inspection ID\\\", Violations FROM inspections where Violations not null\").df()\n",
    "    \n",
    "    violations = {}\n",
    "    inspection_violations = {}\n",
    "    inspection_violation_primary_id = 1\n",
    "    \n",
    "    for index, row in df.iterrows():\n",
    "        inspection_id = row[\"Inspection ID\"]\n",
    "        curr_violations = row[\"Violations\"]\n",
    "        if curr_violations:\n",
    "            violation_list = curr_violations.split(\"|\")\n",
    "\n",
    "            for entry in violation_list:\n",
    "                vio_split = entry.strip().split(\" - \", 1)\n",
    "\n",
    "                violation = vio_split[0].strip()\n",
    "                violation_comments = \"\"\n",
    "                \n",
    "                if(len(vio_split) > 1):\n",
    "                    violation_comments = entry.strip().split(\" - \", 1)[1].strip()\n",
    "                \n",
    "                code = violation.split(\". \", 1)[0]\n",
    "                code = code.strip()\n",
    "                description = violation.split(\". \", 1)[1].strip()\n",
    "                \n",
    "                if code not in violations:\n",
    "                    violations[code] = {\n",
    "                        \"code\": code,\n",
    "                        \"description\": description,\n",
    "                    }\n",
    "                \n",
    "                inspection_details_dirty = []\n",
    "                if len(violation_comments) > 1:\n",
    "                    inspection_details_dirty = violation_comments.split(\"Comments:\", 1)\n",
    "                \n",
    "                inspection_details = \"\"\n",
    "                if len(inspection_details_dirty) > 1:\n",
    "                    inspection_details = inspection_details_dirty[1].strip()\n",
    "                \n",
    "                key = str(inspection_id) + \":\" + code + \":\" + inspection_details\n",
    "\n",
    "                if key not in inspection_violations:\n",
    "                    inspection_violations[key] = {\n",
    "                        \"inspection_violation_id\": inspection_violation_primary_id,\n",
    "                        \"inspection_id\": inspection_id,\n",
    "                        \"violation_id\": code,\n",
    "                        \"inspection_details\": inspection_details\n",
    "                    }\n",
    "                    inspection_violation_primary_id += 1\n",
    "                    \n",
    "    inspection_violations_df = pd.DataFrame([\n",
    "        {\"inspection_violation_id\": iv[\"inspection_violation_id\"], \"inspection_id\": iv[\"inspection_id\"], \"violation_id\": iv[\"violation_id\"], \"inspection_details\": iv[\"inspection_details\"]}\n",
    "        for key, iv in inspection_violations.items()\n",
    "    ])\n",
    "    print(inspection_violations_df)\n",
    "    \n",
    "    violations_df = pd.DataFrame([\n",
    "        {\"code\": v[\"code\"], \"description\": v[\"description\"]}\n",
    "        for code, v in violations.items()\n",
    "    ])\n",
    "    \n",
    "    con.sql(\"INSERT INTO violations SELECT * FROM violations_df\")\n",
    "    con.sql(\"INSERT INTO inspection_violations SELECT * FROM inspection_violations_df\")\n"
   ]
  },
  {
   "cell_type": "markdown",
   "metadata": {},
   "source": [
    "### 4. Queries"
   ]
  },
  {
   "cell_type": "markdown",
   "metadata": {},
   "source": [
    "Write a function `get_top_violations(n)` that queries the database and returns the top `n` violations based on a count of inspection/violation pairs:"
   ]
  },
  {
   "cell_type": "code",
   "execution_count": 1,
   "metadata": {},
   "outputs": [],
   "source": [
    "#grade\n",
    "def get_top_violations(con, n):\n",
    "    \"\"\"\n",
    "    Use con.sql().df() to execute a query to return the top n violations.\n",
    "    Return a dataframe with violation_id and count sorted descending.\n",
    "    \"\"\"\n",
    "    return con.sql(\"SELECT violation_id, COUNT(*) AS count FROM inspection_violations GROUP BY violation_id ORDER BY count DESC LIMIT \" + str(n)).df()"
   ]
  },
  {
   "cell_type": "markdown",
   "metadata": {},
   "source": [
    "Write a function `get_restaurants(n)` that queries the database and returns the `n` restaurants with the most violations."
   ]
  },
  {
   "cell_type": "code",
   "execution_count": null,
   "metadata": {},
   "outputs": [],
   "source": [
    "#grade\n",
    "def get_top_restaurants(con, n):\n",
    "    \"\"\"\n",
    "    Use con.sql().df() to execute a query to return the top n restaurants with the most violations.\n",
    "    Return a dataframe with columns dba_name, address, count sorted by count descending.\n",
    "    \"\"\"\n",
    "    \n",
    "    string_q = \"\"\"\n",
    "        SELECT\n",
    "            ins.\"DBA Name\" AS DBA_NAME,\n",
    "            ins.Address AS ADDRESS,\n",
    "            COUNT(v.violation_id) AS COUNT\n",
    "        FROM inspections AS ins JOIN inspection_violations AS v ON ins.\"Inspection ID\" = v.inspection_id\n",
    "        WHERE ins.\"Facility Type\" = 'Restaurant'\n",
    "        GROUP BY DBA_NAME, ADDRESS ORDER BY COUNT DESC, DBA_NAME ASC, ADDRESS ASC LIMIT \n",
    "    \"\"\"\n",
    "    result = con.sql(string_q + str(n)).df()\n",
    "    return result"
   ]
  },
  {
   "cell_type": "markdown",
   "metadata": {},
   "source": [
    "### 5. Tidy Data\n",
    "Recall Wickham's *tidy data* principles:\n",
    "* Each variable forms a column\n",
    "* Each observation forms a row\n",
    "* Each type of observational unit forms a table\n",
    "\n",
    "Write a function ```get_tidy_violations()``` that returns a tidy dataframe where each observation represents an inspection violation. Your dataframe must contain the inspection ID, inspection date, violation ID and inspection result."
   ]
  },
  {
   "cell_type": "code",
   "execution_count": null,
   "metadata": {},
   "outputs": [],
   "source": [
    "#grade\n",
    "def get_tidy_violations(con):\n",
    "    \"\"\"\n",
    "    Use con.sql().df() to execute a query to return a tidy dataframe of violations where each inspection violation is an observation.\n",
    "    Return a dataframe with columns inspection_id, inspection_date, violation_id, and results.\n",
    "    \"\"\"\n",
    "    string = \"\"\"\n",
    "        SELECT \n",
    "            ins.\"Inspection ID\" AS inspection_id,\n",
    "            ins.\"Inspection Date\" AS inspection_date,\n",
    "            iv.violation_id,\n",
    "            ins.\"Results\" AS results\n",
    "        FROM inspections ins\n",
    "        JOIN inspection_violations iv ON ins.\"Inspection ID\" = iv.inspection_id\n",
    "        ORDER BY inspection_id ASC\n",
    "        \"\"\"\n",
    "    return con.execute(string).df()"
   ]
  },
  {
   "cell_type": "markdown",
   "metadata": {},
   "source": [
    "Once you have completed the assignment, select **Submit & Grade** on the PrairieLearn assignment page."
   ]
  }
 ],
 "metadata": {
  "kernelspec": {
   "display_name": "Python 3",
   "language": "python",
   "name": "python3"
  },
  "language_info": {
   "codemirror_mode": {
    "name": "ipython",
    "version": 3
   },
   "file_extension": ".py",
   "mimetype": "text/x-python",
   "name": "python",
   "nbconvert_exporter": "python",
   "pygments_lexer": "ipython3",
   "version": "3.8.6"
  }
 },
 "nbformat": 4,
 "nbformat_minor": 4
}
